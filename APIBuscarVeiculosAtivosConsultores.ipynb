{
 "cells": [
  {
   "cell_type": "code",
   "execution_count": 1,
   "metadata": {},
   "outputs": [
    {
     "name": "stdout",
     "output_type": "stream",
     "text": [
      "Token de acesso: dfab9f978d1eb0469e05753ab72b3f3ae5499e124a7b9b5d57ec1fe52abe2ae07343bdf384b5d423ceb2fb67b265ce4604da8a7d21657a9a9aaf0d159f002a95d2a34e886b49c47b9dd5d979932e02657227010df1fe1502413084d157a17e112e339db829fa34151dd14afb516837ee2bde14c17269b2f14bef60ba3a120a3c6763fd475f725978bc2766a2d77e4f86\n",
      "Falha ao obter informações do veículo. Código de status: 404\n",
      "{'mensagem': 'Página não encontrada', 'error': ['Endpoint não encontrado. Verifique se url requisitada ou método http utilizado estão corretos']}\n"
     ]
    }
   ],
   "source": [
    "import requests\n",
    "\n",
    "# Autenticação\n",
    "url_autenticacao = 'https://api.hinova.com.br/api/sga/v2/usuario/autenticar'\n",
    "headers_autenticacao = {\n",
    "    'Content-Type': 'application/json',\n",
    "    'Authorization': 'Bearer {#token}'\n",
    "}\n",
    "data_autenticacao = {\n",
    "    'usuario': 'user',\n",
    "    'senha': 'senha'\n",
    "}\n",
    "\n",
    "r_autenticacao = requests.post(url_autenticacao, headers=headers_autenticacao, json=data_autenticacao)\n",
    "\n",
    "# Verificar se a autenticação foi bem-sucedida\n",
    "if r_autenticacao.status_code == 200:\n",
    "    # Obter o token de acesso\n",
    "    token_usuario = r_autenticacao.json().get('token_usuario')\n",
    "    print(f\"Token de acesso: {token_usuario}\")\n",
    "\n",
    "    # Consulta de veículo\n",
    "    url_veiculo = 'https://api.hinova.com.br/api/sga/v2/veiculo/buscar/#PLACADOVEICULO'\n",
    "    headers_veiculo = {\n",
    "        'Content-Type': 'application/json',\n",
    "        'Authorization': f'Bearer {token_usuario}'\n",
    "    }\n",
    "\n",
    "    r_veiculo = requests.get(url_veiculo, headers=headers_veiculo)\n",
    "\n",
    "    # Verificar se a solicitação foi bem-sucedida\n",
    "    if r_veiculo.status_code == 200:\n",
    "        # Obter os dados do veículo como uma lista de dicionários\n",
    "        lista_veiculo = r_veiculo.json()\n",
    "\n",
    "        # Iterar sobre os veículos e imprimir apenas as informações relevantes para veículos ativos\n",
    "        for veiculo in lista_veiculo:\n",
    "            # Verificar se 'descricao_situacao' é 'ATIVO'\n",
    "            if veiculo.get('descricao_situacao') == 'ATIVO':\n",
    "                nome_voluntario = veiculo.get('nome_voluntario')\n",
    "                placa = veiculo.get('placa')\n",
    "\n",
    "                # Imprimir as informações relevantes\n",
    "                print(f\"Nome Voluntário: {nome_voluntario}\")\n",
    "                print(f\"Placa: {placa}\")\n",
    "                print(\"---\")  # Adiciona uma linha para separar os veículos\n",
    "    else:\n",
    "        print(f\"Falha ao obter informações do veículo. Código de status: {r_veiculo.status_code}\")\n",
    "        print(r_veiculo.json())\n",
    "else:\n",
    "    print(f\"Falha na autenticação. Código de status: {r_autenticacao.status_code}\")\n",
    "    print(r_autenticacao.json())\n",
    "\n",
    "\n"
   ]
  },
  {
   "cell_type": "code",
   "execution_count": 31,
   "metadata": {},
   "outputs": [
    {
     "ename": "TypeError",
     "evalue": "dict.items() takes no arguments (1 given)",
     "output_type": "error",
     "traceback": [
      "\u001b[1;31m---------------------------------------------------------------------------\u001b[0m",
      "\u001b[1;31mTypeError\u001b[0m                                 Traceback (most recent call last)",
      "Cell \u001b[1;32mIn[31], line 1\u001b[0m\n\u001b[1;32m----> 1\u001b[0m \u001b[43mveiculo\u001b[49m\u001b[38;5;241;43m.\u001b[39;49m\u001b[43mitems\u001b[49m\u001b[43m(\u001b[49m\u001b[38;5;28;43mall\u001b[39;49m\u001b[43m)\u001b[49m\n",
      "\u001b[1;31mTypeError\u001b[0m: dict.items() takes no arguments (1 given)"
     ]
    }
   ],
   "source": []
  }
 ],
 "metadata": {
  "kernelspec": {
   "display_name": "Python 3",
   "language": "python",
   "name": "python3"
  },
  "language_info": {
   "codemirror_mode": {
    "name": "ipython",
    "version": 3
   },
   "file_extension": ".py",
   "mimetype": "text/x-python",
   "name": "python",
   "nbconvert_exporter": "python",
   "pygments_lexer": "ipython3",
   "version": "3.12.1"
  }
 },
 "nbformat": 4,
 "nbformat_minor": 2
}
